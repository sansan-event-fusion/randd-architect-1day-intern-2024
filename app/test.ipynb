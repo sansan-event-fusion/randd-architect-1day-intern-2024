{
 "cells": [
  {
   "cell_type": "code",
   "execution_count": 102,
   "metadata": {},
   "outputs": [],
   "source": [
    "import pandas as pd\n",
    "import requests\n",
    "\n",
    "url = 'https://circuit-trial.stg.rd.ds.sansan.com/api/cards/?offset=0&limit=2000'\n",
    "r = requests.get(url)\n"
   ]
  },
  {
   "cell_type": "code",
   "execution_count": 103,
   "metadata": {},
   "outputs": [
    {
     "data": {
      "text/html": [
       "<div>\n",
       "<style scoped>\n",
       "    .dataframe tbody tr th:only-of-type {\n",
       "        vertical-align: middle;\n",
       "    }\n",
       "\n",
       "    .dataframe tbody tr th {\n",
       "        vertical-align: top;\n",
       "    }\n",
       "\n",
       "    .dataframe thead th {\n",
       "        text-align: right;\n",
       "    }\n",
       "</style>\n",
       "<table border=\"1\" class=\"dataframe\">\n",
       "  <thead>\n",
       "    <tr style=\"text-align: right;\">\n",
       "      <th></th>\n",
       "      <th>user_id</th>\n",
       "      <th>company_id</th>\n",
       "      <th>full_name</th>\n",
       "      <th>position</th>\n",
       "      <th>company_name</th>\n",
       "      <th>address</th>\n",
       "      <th>phone_number</th>\n",
       "    </tr>\n",
       "  </thead>\n",
       "  <tbody>\n",
       "    <tr>\n",
       "      <th>0</th>\n",
       "      <td>9230809757</td>\n",
       "      <td>364994639</td>\n",
       "      <td>後藤 裕太</td>\n",
       "      <td>カスタマーサポートマネージャー</td>\n",
       "      <td>合同会社森鉱業</td>\n",
       "      <td>千葉県柏市柏3-7-5</td>\n",
       "      <td>090-0143-7483</td>\n",
       "    </tr>\n",
       "    <tr>\n",
       "      <th>1</th>\n",
       "      <td>3479534060</td>\n",
       "      <td>1683446724</td>\n",
       "      <td>松田 太郎</td>\n",
       "      <td>次長</td>\n",
       "      <td>有限会社井上運輸</td>\n",
       "      <td>千葉県柏市柏3-7-5</td>\n",
       "      <td>070-3121-9804</td>\n",
       "    </tr>\n",
       "    <tr>\n",
       "      <th>2</th>\n",
       "      <td>1471907357</td>\n",
       "      <td>1683446724</td>\n",
       "      <td>伊藤 幹</td>\n",
       "      <td>技術次長</td>\n",
       "      <td>有限会社井上運輸</td>\n",
       "      <td>千葉県柏市柏3-7-5</td>\n",
       "      <td>090-1288-6691</td>\n",
       "    </tr>\n",
       "    <tr>\n",
       "      <th>3</th>\n",
       "      <td>7558936248</td>\n",
       "      <td>2316222488</td>\n",
       "      <td>田中 学</td>\n",
       "      <td>技術係長</td>\n",
       "      <td>清水運輸合同会社</td>\n",
       "      <td>千葉県柏市柏3-7-5</td>\n",
       "      <td>080-0493-6653</td>\n",
       "    </tr>\n",
       "    <tr>\n",
       "      <th>4</th>\n",
       "      <td>4665080307</td>\n",
       "      <td>2316222488</td>\n",
       "      <td>吉田 裕太</td>\n",
       "      <td>次長</td>\n",
       "      <td>清水運輸合同会社</td>\n",
       "      <td>千葉県柏市柏3-7-5</td>\n",
       "      <td>070-5370-9230</td>\n",
       "    </tr>\n",
       "    <tr>\n",
       "      <th>...</th>\n",
       "      <td>...</td>\n",
       "      <td>...</td>\n",
       "      <td>...</td>\n",
       "      <td>...</td>\n",
       "      <td>...</td>\n",
       "      <td>...</td>\n",
       "      <td>...</td>\n",
       "    </tr>\n",
       "    <tr>\n",
       "      <th>1995</th>\n",
       "      <td>5273582058</td>\n",
       "      <td>9432174675</td>\n",
       "      <td>加藤 くみ子</td>\n",
       "      <td>営業課長</td>\n",
       "      <td>株式会社鈴木保険</td>\n",
       "      <td>神奈川県相模原市南区相模大野4-6-7</td>\n",
       "      <td>070-5507-7406</td>\n",
       "    </tr>\n",
       "    <tr>\n",
       "      <th>1996</th>\n",
       "      <td>7332714010</td>\n",
       "      <td>769945233</td>\n",
       "      <td>太田 裕太</td>\n",
       "      <td>主任</td>\n",
       "      <td>合同会社高橋建設</td>\n",
       "      <td>神奈川県横浜市西区みなとみらい3-5-7</td>\n",
       "      <td>090-8374-4171</td>\n",
       "    </tr>\n",
       "    <tr>\n",
       "      <th>1997</th>\n",
       "      <td>7051851097</td>\n",
       "      <td>913706213</td>\n",
       "      <td>高橋 花子</td>\n",
       "      <td>主任</td>\n",
       "      <td>伊藤農林有限会社</td>\n",
       "      <td>神奈川県横浜市西区みなとみらい3-5-7</td>\n",
       "      <td>090-5657-4902</td>\n",
       "    </tr>\n",
       "    <tr>\n",
       "      <th>1998</th>\n",
       "      <td>8150889539</td>\n",
       "      <td>913706213</td>\n",
       "      <td>山口 千代</td>\n",
       "      <td>ジュニアアナリスト</td>\n",
       "      <td>伊藤農林有限会社</td>\n",
       "      <td>神奈川県横浜市西区みなとみらい3-5-7</td>\n",
       "      <td>080-2291-2489</td>\n",
       "    </tr>\n",
       "    <tr>\n",
       "      <th>1999</th>\n",
       "      <td>4032960128</td>\n",
       "      <td>9081930571</td>\n",
       "      <td>池田 裕太</td>\n",
       "      <td>ソフトウェアエンジニア</td>\n",
       "      <td>藤田印刷株式会社</td>\n",
       "      <td>神奈川県横浜市西区みなとみらい3-5-7</td>\n",
       "      <td>070-1754-5416</td>\n",
       "    </tr>\n",
       "  </tbody>\n",
       "</table>\n",
       "<p>2000 rows × 7 columns</p>\n",
       "</div>"
      ],
      "text/plain": [
       "         user_id  company_id full_name         position company_name  \\\n",
       "0     9230809757   364994639     後藤 裕太  カスタマーサポートマネージャー      合同会社森鉱業   \n",
       "1     3479534060  1683446724     松田 太郎               次長     有限会社井上運輸   \n",
       "2     1471907357  1683446724      伊藤 幹             技術次長     有限会社井上運輸   \n",
       "3     7558936248  2316222488      田中 学             技術係長     清水運輸合同会社   \n",
       "4     4665080307  2316222488     吉田 裕太               次長     清水運輸合同会社   \n",
       "...          ...         ...       ...              ...          ...   \n",
       "1995  5273582058  9432174675    加藤 くみ子             営業課長     株式会社鈴木保険   \n",
       "1996  7332714010   769945233     太田 裕太               主任     合同会社高橋建設   \n",
       "1997  7051851097   913706213     高橋 花子               主任     伊藤農林有限会社   \n",
       "1998  8150889539   913706213     山口 千代        ジュニアアナリスト     伊藤農林有限会社   \n",
       "1999  4032960128  9081930571     池田 裕太      ソフトウェアエンジニア     藤田印刷株式会社   \n",
       "\n",
       "                   address   phone_number  \n",
       "0              千葉県柏市柏3-7-5  090-0143-7483  \n",
       "1              千葉県柏市柏3-7-5  070-3121-9804  \n",
       "2              千葉県柏市柏3-7-5  090-1288-6691  \n",
       "3              千葉県柏市柏3-7-5  080-0493-6653  \n",
       "4              千葉県柏市柏3-7-5  070-5370-9230  \n",
       "...                    ...            ...  \n",
       "1995   神奈川県相模原市南区相模大野4-6-7  070-5507-7406  \n",
       "1996  神奈川県横浜市西区みなとみらい3-5-7  090-8374-4171  \n",
       "1997  神奈川県横浜市西区みなとみらい3-5-7  090-5657-4902  \n",
       "1998  神奈川県横浜市西区みなとみらい3-5-7  080-2291-2489  \n",
       "1999  神奈川県横浜市西区みなとみらい3-5-7  070-1754-5416  \n",
       "\n",
       "[2000 rows x 7 columns]"
      ]
     },
     "execution_count": 103,
     "metadata": {},
     "output_type": "execute_result"
    }
   ],
   "source": [
    "response = r.json()\n",
    "mst_df = pd.DataFrame(response)\n",
    "mst_df"
   ]
  },
  {
   "cell_type": "code",
   "execution_count": 104,
   "metadata": {},
   "outputs": [
    {
     "data": {
      "text/plain": [
       "array(['カスタマーサポートマネージャー', '次長', '技術次長', '技術係長', '一般社員', '係長', '主任',\n",
       "       'プロダクトマネージャー', 'アナリスト', 'シニアアナリスト', 'ソフトウェアエンジニア', '営業次長', '技術課長',\n",
       "       '新入社員', '技術主任', '課長', 'ジュニアアナリスト', '部長', 'システムエンジニア',\n",
       "       'プロジェクトマネージャー', 'アカウントマネージャー', '営業部長', '技術部長', 'リードエンジニア', '営業主任',\n",
       "       'データサイエンティスト', '営業課長', '営業係長', 'アシスタントマネージャー'], dtype=object)"
      ]
     },
     "execution_count": 104,
     "metadata": {},
     "output_type": "execute_result"
    }
   ],
   "source": [
    "mst_df[\"position\"].unique()"
   ]
  },
  {
   "cell_type": "code",
   "execution_count": 83,
   "metadata": {},
   "outputs": [
    {
     "data": {
      "text/plain": [
       "884"
      ]
     },
     "execution_count": 83,
     "metadata": {},
     "output_type": "execute_result"
    }
   ],
   "source": [
    "mst_df[\"company_id\"].nunique()\n",
    "# df[df[\"company_id\"] == \"364994639\"]"
   ]
  },
  {
   "cell_type": "code",
   "execution_count": 93,
   "metadata": {},
   "outputs": [
    {
     "ename": "IndexError",
     "evalue": "list index out of range",
     "output_type": "error",
     "traceback": [
      "\u001b[0;31m---------------------------------------------------------------------------\u001b[0m",
      "\u001b[0;31mIndexError\u001b[0m                                Traceback (most recent call last)",
      "Cell \u001b[0;32mIn[93], line 7\u001b[0m\n\u001b[1;32m      5\u001b[0m \u001b[38;5;66;03m# company_dictのvalueを指定してkeyを取得する\u001b[39;00m\n\u001b[1;32m      6\u001b[0m company_name \u001b[38;5;241m=\u001b[39m \u001b[38;5;124m\"\u001b[39m\u001b[38;5;124m株式会社Sansan\u001b[39m\u001b[38;5;124m\"\u001b[39m\n\u001b[0;32m----> 7\u001b[0m company_id \u001b[38;5;241m=\u001b[39m \u001b[43m[\u001b[49m\u001b[43mk\u001b[49m\u001b[43m \u001b[49m\u001b[38;5;28;43;01mfor\u001b[39;49;00m\u001b[43m \u001b[49m\u001b[43mk\u001b[49m\u001b[43m,\u001b[49m\u001b[43m \u001b[49m\u001b[43mv\u001b[49m\u001b[43m \u001b[49m\u001b[38;5;129;43;01min\u001b[39;49;00m\u001b[43m \u001b[49m\u001b[43mcompany_dict\u001b[49m\u001b[38;5;241;43m.\u001b[39;49m\u001b[43mitems\u001b[49m\u001b[43m(\u001b[49m\u001b[43m)\u001b[49m\u001b[43m \u001b[49m\u001b[38;5;28;43;01mif\u001b[39;49;00m\u001b[43m \u001b[49m\u001b[43mv\u001b[49m\u001b[43m \u001b[49m\u001b[38;5;241;43m==\u001b[39;49m\u001b[43m \u001b[49m\u001b[43mcompany_name\u001b[49m\u001b[43m]\u001b[49m\u001b[43m[\u001b[49m\u001b[38;5;241;43m0\u001b[39;49m\u001b[43m]\u001b[49m\n\u001b[1;32m      8\u001b[0m company_id\n",
      "\u001b[0;31mIndexError\u001b[0m: list index out of range"
     ]
    }
   ],
   "source": [
    "# dfからcompany_idとcompany_nameの辞書を作る\n",
    "company_dict = mst_df[[\"company_id\", \"company_name\"]].drop_duplicates().set_index(\"company_id\")[\"company_name\"].to_dict()\n",
    "company_dict\n",
    "\n",
    "# company_dictのvalueを指定してkeyを取得する\n",
    "company_name = \"株式会社Sansan\"\n",
    "company_id = [k for k, v in company_dict.items() if v == company_name][0]\n",
    "company_id"
   ]
  },
  {
   "cell_type": "code",
   "execution_count": 63,
   "metadata": {},
   "outputs": [],
   "source": [
    "url =  'https://circuit-trial.stg.rd.ds.sansan.com/api/contacts/owner_users/4578252120?offset=0&limit=100'\n",
    "r = requests.get(url)"
   ]
  },
  {
   "cell_type": "code",
   "execution_count": 64,
   "metadata": {},
   "outputs": [
    {
     "data": {
      "text/html": [
       "<div>\n",
       "<style scoped>\n",
       "    .dataframe tbody tr th:only-of-type {\n",
       "        vertical-align: middle;\n",
       "    }\n",
       "\n",
       "    .dataframe tbody tr th {\n",
       "        vertical-align: top;\n",
       "    }\n",
       "\n",
       "    .dataframe thead th {\n",
       "        text-align: right;\n",
       "    }\n",
       "</style>\n",
       "<table border=\"1\" class=\"dataframe\">\n",
       "  <thead>\n",
       "    <tr style=\"text-align: right;\">\n",
       "      <th></th>\n",
       "      <th>owner_user_id</th>\n",
       "      <th>owner_company_id</th>\n",
       "      <th>user_id</th>\n",
       "      <th>company_id</th>\n",
       "      <th>created_at</th>\n",
       "    </tr>\n",
       "  </thead>\n",
       "  <tbody>\n",
       "    <tr>\n",
       "      <th>0</th>\n",
       "      <td>4578252120</td>\n",
       "      <td>231178500</td>\n",
       "      <td>4847288</td>\n",
       "      <td>4908596099</td>\n",
       "      <td>2021-11-19T01:20:41Z</td>\n",
       "    </tr>\n",
       "    <tr>\n",
       "      <th>1</th>\n",
       "      <td>4578252120</td>\n",
       "      <td>231178500</td>\n",
       "      <td>18503182</td>\n",
       "      <td>9351013269</td>\n",
       "      <td>2022-10-27T02:46:02Z</td>\n",
       "    </tr>\n",
       "    <tr>\n",
       "      <th>2</th>\n",
       "      <td>4578252120</td>\n",
       "      <td>231178500</td>\n",
       "      <td>379103373</td>\n",
       "      <td>2297681898</td>\n",
       "      <td>2023-01-03T06:17:59Z</td>\n",
       "    </tr>\n",
       "    <tr>\n",
       "      <th>3</th>\n",
       "      <td>4578252120</td>\n",
       "      <td>231178500</td>\n",
       "      <td>538139622</td>\n",
       "      <td>7492970833</td>\n",
       "      <td>2020-09-05T22:17:28Z</td>\n",
       "    </tr>\n",
       "    <tr>\n",
       "      <th>4</th>\n",
       "      <td>4578252120</td>\n",
       "      <td>231178500</td>\n",
       "      <td>627110756</td>\n",
       "      <td>6168105904</td>\n",
       "      <td>2023-05-11T01:44:01Z</td>\n",
       "    </tr>\n",
       "  </tbody>\n",
       "</table>\n",
       "</div>"
      ],
      "text/plain": [
       "  owner_user_id owner_company_id    user_id  company_id            created_at\n",
       "0    4578252120        231178500    4847288  4908596099  2021-11-19T01:20:41Z\n",
       "1    4578252120        231178500   18503182  9351013269  2022-10-27T02:46:02Z\n",
       "2    4578252120        231178500  379103373  2297681898  2023-01-03T06:17:59Z\n",
       "3    4578252120        231178500  538139622  7492970833  2020-09-05T22:17:28Z\n",
       "4    4578252120        231178500  627110756  6168105904  2023-05-11T01:44:01Z"
      ]
     },
     "execution_count": 64,
     "metadata": {},
     "output_type": "execute_result"
    }
   ],
   "source": [
    "response = r.json()\n",
    "df = pd.DataFrame(response)\n",
    "df.head()"
   ]
  },
  {
   "cell_type": "code",
   "execution_count": 81,
   "metadata": {},
   "outputs": [
    {
     "name": "stdout",
     "output_type": "stream",
     "text": [
      "主任 技術主任\n"
     ]
    }
   ],
   "source": [
    "owner = df[\"owner_user_id\"][0]\n",
    "user = df[\"user_id\"][0]\n",
    "\n",
    "owner_job = mst_df[mst_df[\"user_id\"] == owner].position.values[0]\n",
    "user_job = mst_df[mst_df[\"user_id\"] == user].position.values[0]\n",
    "print(owner_job, user_job)"
   ]
  },
  {
   "cell_type": "code",
   "execution_count": 80,
   "metadata": {},
   "outputs": [
    {
     "name": "stdout",
     "output_type": "stream",
     "text": [
      "The score between 部長 and 係長 is 2\n"
     ]
    }
   ],
   "source": [
    "positions = {\n",
    "    7: [\"部長\", \"技術部長\", \"営業部長\"],\n",
    "    6: [\"次長\", \"技術次長\", \"営業次長\", \"課長\", \"技術課長\", \"営業課長\"],\n",
    "    5: [\"係長\", \"技術係長\", \"営業係長\", \"主任\", \"技術主任\", \"営業主任\"],\n",
    "    4: [\"プロダクトマネージャー\", \"プロジェクトマネージャー\", \"アカウントマネージャー\", \"カスタマーサポートマネージャー\", \"アシスタントマネージャー\"],\n",
    "    3: [\"シニアアナリスト\", \"リードエンジニア\"],\n",
    "    2: [\"一般社員\", \"新入社員\"],\n",
    "    1: [\"アナリスト\", \"ジュニアアナリスト\", \"ソフトウェアエンジニア\", \"システムエンジニア\", \"データサイエンティスト\"]\n",
    "}\n",
    "\n",
    "# 役職名からランクを取得する辞書\n",
    "position_to_rank = {position: rank for rank, positions in positions.items() for position in positions}\n",
    "\n",
    "def get_position_rank(position):\n",
    "    return position_to_rank.get(position, None)\n",
    "\n",
    "def compare_positions(position1, position2):\n",
    "    rank1 = get_position_rank(position1)\n",
    "    rank2 = get_position_rank(position2)\n",
    "    \n",
    "    if rank1 is None or rank2 is None:\n",
    "        raise ValueError(\"One or both positions are invalid\")\n",
    "    \n",
    "    return rank1 - rank2\n",
    "\n",
    "# 使用例\n",
    "position1 = \"部長\"\n",
    "position2 = \"係長\"\n",
    "\n",
    "try:\n",
    "    score = compare_positions(position1, position2)\n",
    "    print(f\"The score between {position1} and {position2} is {score}\")\n",
    "except ValueError as e:\n",
    "    print(e)\n"
   ]
  },
  {
   "cell_type": "code",
   "execution_count": 82,
   "metadata": {},
   "outputs": [
    {
     "data": {
      "text/plain": [
       "0"
      ]
     },
     "execution_count": 82,
     "metadata": {},
     "output_type": "execute_result"
    }
   ],
   "source": [
    "compare_positions(owner_job, user_job)"
   ]
  },
  {
   "cell_type": "code",
   "execution_count": null,
   "metadata": {},
   "outputs": [],
   "source": []
  }
 ],
 "metadata": {
  "kernelspec": {
   "display_name": "app-FeD8a6Sd-py3.10",
   "language": "python",
   "name": "python3"
  },
  "language_info": {
   "codemirror_mode": {
    "name": "ipython",
    "version": 3
   },
   "file_extension": ".py",
   "mimetype": "text/x-python",
   "name": "python",
   "nbconvert_exporter": "python",
   "pygments_lexer": "ipython3",
   "version": "3.10.11"
  }
 },
 "nbformat": 4,
 "nbformat_minor": 2
}
